{
 "cells": [
  {
   "cell_type": "code",
   "execution_count": null,
   "metadata": {},
   "outputs": [],
   "source": [
    "import csv\n",
    "from collections import defaultdict\n",
    "from tqdm.notebook import tqdm\n",
    "import pandas as pd"
   ]
  },
  {
   "cell_type": "code",
   "execution_count": null,
   "metadata": {},
   "outputs": [],
   "source": [
    "input_file_reference = \"./MAG_dataset/mag/PaperReferences.txt\"\n",
    "citation_number_dict_compare = defaultdict(int)\n",
    "test_duplicated_link2 = defaultdict(int)\n",
    "duplicates2 = 0\n",
    "with open(input_file_reference, 'r') as csvfile:\n",
    "    reader = csv.reader(csvfile, delimiter='\\t')\n",
    "    next(reader)   \n",
    "    for row in tqdm(reader): # for a new file\n",
    "    #for row in tqdm(reader, total=956198971): # Hard coded to improve the speed\n",
    "        if(test_duplicated_link2[(int(row[0]), int(row[1]))] != 0):\n",
    "            duplicates2 += 1\n",
    "        test_duplicated_link2[(int(row[0]), int(row[1]))] += 1     \n",
    "        citation_number_dict_compare[int(row[1])] += 1"
   ]
  },
  {
   "cell_type": "code",
   "execution_count": null,
   "metadata": {},
   "outputs": [],
   "source": [
    "duplicates2"
   ]
  },
  {
   "cell_type": "code",
   "execution_count": null,
   "metadata": {},
   "outputs": [],
   "source": [
    "df_citation_num_compare = pd.Series(citation_number_dict_compare).reset_index()\n",
    "df_citation_num_compare.columns = [\"PaperId\", \"CitationCountsCompare\"]"
   ]
  },
  {
   "cell_type": "code",
   "execution_count": null,
   "metadata": {},
   "outputs": [],
   "source": [
    "input_file_reference_with_l0 = \"./fastnvme01//MAG_ALLReferenceL0FieldMerged.tsv\"\n",
    "field_edge_list_dict = defaultdict(list)\n",
    "citation_number_dict = defaultdict(int)\n",
    "citation_number_dict_main_field = defaultdict(lambda: defaultdict(int))\n",
    "with open(input_file_reference_with_l0, 'r') as csvfile:\n",
    "    reader = csv.reader(csvfile, delimiter='\\t')\n",
    "    next(reader)\n",
    "    #for row in tqdm(reader, total=get_filelength(input_file_reference_with_l0)): # for a new file\n",
    "    for row in tqdm(reader, total=956198971): # Hard coded to improve the speed        \n",
    "        if(row[1] == row[3]):\n",
    "            citation_number_dict_main_field[int(row[1])][int(row[2])] += 1"
   ]
  },
  {
   "cell_type": "code",
   "execution_count": null,
   "metadata": {},
   "outputs": [],
   "source": [
    "duplicates"
   ]
  },
  {
   "cell_type": "code",
   "execution_count": null,
   "metadata": {},
   "outputs": [],
   "source": [
    "df_citation_num = pd.Series(citation_number_dict_compare).reset_index()\n",
    "df_citation_num.columns = [\"PaperId\", \"CitationCounts\"]"
   ]
  },
  {
   "cell_type": "code",
   "execution_count": null,
   "metadata": {},
   "outputs": [],
   "source": [
    "df_citation_num.to_csv(\"./Processed_data/MAG_CitationCounts.tsv\", index=None, sep=\"\\t\")"
   ]
  },
  {
   "cell_type": "code",
   "execution_count": null,
   "metadata": {},
   "outputs": [],
   "source": [
    "list_field_citation = []\n",
    "for field, secdict in citation_number_dict_main_field.items():\n",
    "    for paperid, value in secdict.items():\n",
    "        list_field_citation.append((paperid, field, value))\n",
    "        #print(key, key2, value)"
   ]
  },
  {
   "cell_type": "code",
   "execution_count": null,
   "metadata": {},
   "outputs": [],
   "source": [
    "df_citation_num_main_field = pd.DataFrame(list_field_citation)\n",
    "df_citation_num_main_field.columns = [\"PaperId\", \"L0Field\", \"InFieldCitationCounts\"]"
   ]
  },
  {
   "cell_type": "code",
   "execution_count": null,
   "metadata": {},
   "outputs": [],
   "source": [
    "df_citation_num_main_field.to_csv(\"./Processed_data/MAG_L0CitationCounts.tsv\", sep=\"\\t\", index=None)"
   ]
  },
  {
   "cell_type": "code",
   "execution_count": null,
   "metadata": {},
   "outputs": [],
   "source": []
  }
 ],
 "metadata": {
  "kernelspec": {
   "display_name": "Python 3 (ipykernel)",
   "language": "python",
   "name": "python3"
  },
  "language_info": {
   "codemirror_mode": {
    "name": "ipython",
    "version": 3
   },
   "file_extension": ".py",
   "mimetype": "text/x-python",
   "name": "python",
   "nbconvert_exporter": "python",
   "pygments_lexer": "ipython3",
   "version": "3.12.9"
  }
 },
 "nbformat": 4,
 "nbformat_minor": 4
}
