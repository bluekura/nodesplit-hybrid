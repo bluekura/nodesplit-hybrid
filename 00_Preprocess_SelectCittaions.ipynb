{
 "cells": [
  {
   "cell_type": "code",
   "execution_count": null,
   "metadata": {},
   "outputs": [],
   "source": [
    "import pandas as pd\n",
    "import csv"
   ]
  },
  {
   "cell_type": "code",
   "execution_count": null,
   "metadata": {},
   "outputs": [],
   "source": [
    "PaperL0FieldData = pd.read_csv(\"./Processed_data/MAG_PaperJournalFiledDataMergedL0.tsv\", sep =\"\\t\", index_col = 0, quoting=csv.QUOTE_NONE)"
   ]
  },
  {
   "cell_type": "code",
   "execution_count": null,
   "metadata": {},
   "outputs": [],
   "source": [
    "PaperL0FieldData"
   ]
  },
  {
   "cell_type": "code",
   "execution_count": null,
   "metadata": {},
   "outputs": [],
   "source": [
    "FOS_datafile = \"./MAG_dataset/advanced/FieldsOfStudy.txt\"\n",
    "df_fosinfo = pd.read_csv(FOS_datafile, sep=\"\\t\", header=None, usecols=[0, 3, 5, 6], quoting=csv.QUOTE_NONE)\n",
    "df_fosinfo.columns = [\"FieldofStudyId\", \"FosName\", \"FosLevel\", \"PaperCount\"]\n"
   ]
  },
  {
   "cell_type": "code",
   "execution_count": null,
   "metadata": {},
   "outputs": [],
   "source": [
    "L0_FOSID_List = df_fosinfo[df_fosinfo[\"FosLevel\"] == 0][\"FieldofStudyId\"].tolist()"
   ]
  },
  {
   "cell_type": "code",
   "execution_count": null,
   "metadata": {},
   "outputs": [],
   "source": [
    "FOSID_NAME_dict = pd.Series(df_fosinfo[\"FosName\"].values, index=df_fosinfo[\"FieldofStudyId\"]).to_dict()"
   ]
  },
  {
   "cell_type": "code",
   "execution_count": null,
   "metadata": {},
   "outputs": [],
   "source": [
    "PaperReferences = pd.read_csv(\"./MAG_dataset/mag/PaperReferences.txt\", sep = \"\\t\", header = None, quoting=csv.QUOTE_NONE)"
   ]
  },
  {
   "cell_type": "code",
   "execution_count": null,
   "metadata": {},
   "outputs": [],
   "source": [
    "PaperReferences.merge(PaperL0FieldData[[\"PaperId\", \"FieldofStudyId\"]], left_on=0, right_on=\"PaperId\").merge(PaperL0FieldData[[\"PaperId\", \"FieldofStudyId\"]], left_on=1, right_on=\"PaperId\").drop(0, axis=1).drop(1, axis=1)"
   ]
  },
  {
   "cell_type": "code",
   "execution_count": null,
   "metadata": {},
   "outputs": [],
   "source": [
    "PaperReferencesFields = PaperReferences.merge(PaperL0FieldData[[\"PaperId\", \"FieldofStudyId\"]], left_on=0, right_on=\"PaperId\").merge(PaperL0FieldData[[\"PaperId\", \"FieldofStudyId\"]], left_on=1, right_on=\"PaperId\").drop(0, axis=1).drop(1, axis=1)"
   ]
  },
  {
   "cell_type": "code",
   "execution_count": null,
   "metadata": {},
   "outputs": [],
   "source": [
    "PaperReferencesFields.columns = [\"CitingId\", \"FOSCiting\", \"CitedId\", \"FOSCited\"]"
   ]
  },
  {
   "cell_type": "code",
   "execution_count": null,
   "metadata": {},
   "outputs": [],
   "source": [
    "PaperReferencesFields.to_csv(\"./Processed_data/MAG_ALLReferenceL0FieldMerged.tsv\", index=None, sep=\"\\t\")"
   ]
  },
  {
   "cell_type": "code",
   "execution_count": null,
   "metadata": {},
   "outputs": [],
   "source": [
    "PaperReferencesFields"
   ]
  },
  {
   "cell_type": "code",
   "execution_count": null,
   "metadata": {},
   "outputs": [],
   "source": []
  }
 ],
 "metadata": {
  "kernelspec": {
   "display_name": "Python 3 (ipykernel)",
   "language": "python",
   "name": "python3"
  },
  "language_info": {
   "codemirror_mode": {
    "name": "ipython",
    "version": 3
   },
   "file_extension": ".py",
   "mimetype": "text/x-python",
   "name": "python",
   "nbconvert_exporter": "python",
   "pygments_lexer": "ipython3",
   "version": "3.12.9"
  }
 },
 "nbformat": 4,
 "nbformat_minor": 4
}
