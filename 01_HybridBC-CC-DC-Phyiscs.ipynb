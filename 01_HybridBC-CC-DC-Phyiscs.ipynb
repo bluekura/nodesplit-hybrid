{
 "cells": [
  {
   "cell_type": "code",
   "execution_count": null,
   "metadata": {},
   "outputs": [],
   "source": [
    "import pandas as pd\n",
    "from matplotlib import pyplot as plt\n",
    "import glob\n",
    "from collections import defaultdict\n",
    "from collections import Counter\n",
    "import csv\n",
    "from clusim.clustering import Clustering, print_clustering\n",
    "import clusim.sim as sim\n",
    "import math\n",
    "from multiprocessing import Pool\n",
    "from tqdm import tqdm\n",
    "import itertools"
   ]
  },
  {
   "cell_type": "code",
   "execution_count": null,
   "metadata": {},
   "outputs": [],
   "source": [
    "def get_nmi_subset(target_dict, ref_dict):\n",
    "    c1_name = set(target_dict)\n",
    "    c2_name = set(ref_dict)\n",
    "    intersectionset = c1_name.intersection(c2_name)\n",
    "    del(c1_name)\n",
    "    del(c2_name)\n",
    "    dict1 = {}\n",
    "    dict2 = {}\n",
    "    for idx_tmp, val in enumerate(intersectionset):\n",
    "        dict1[idx_tmp] = [target_dict[val]]\n",
    "        dict2[idx_tmp] = [ref_dict[val]]\n",
    "    c1 = Clustering(elm2clu_dict = dict1)\n",
    "    c2 = Clustering(elm2clu_dict = dict2)\n",
    "    nmi_sim = sim.nmi(c1, c2)\n",
    "    return nmi_sim\n",
    "\n",
    "def get_params_from_filename(fname):\n",
    "    subname = fname.split(\"/\")[3]\n",
    "    net_type = subname.split(\"_\", 1)[0]\n",
    "    res = subname.rsplit(\"_\", 1)[1].rsplit(\".\", 1)[0]\n",
    "    temp = subname.split(\"_\", 3)\n",
    "    if(temp[2][0]==\"r\"):\n",
    "        fieldname = temp[1]\n",
    "        r_layer = tuple(temp[3].rsplit(\"_\", 1)[0].split(\"_\"))\n",
    "    else:\n",
    "        fieldname = temp[1]+\" \"+temp[2]\n",
    "        r_layer = tuple(temp[3].split(\"_\", 1)[1].rsplit(\"_\", 1)[0].split(\"_\"))\n",
    "    return [net_type, fieldname, r_layer, res]\n",
    "\n",
    "def calc_granularity_cludict(cluster_dict):\n",
    "    # cluster list: list idx = cluster idx\n",
    "    # list[cluster idx]: list of node indexes for a certain cluster\n",
    "    cluster_count = len(set(cluster_dict.values()))\n",
    "    total_count = len(cluster_dict)\n",
    "    gran_denom = sum([x**2 for x in Counter(cluster_dict.values()).values()])\n",
    "    gran1 = total_count / gran_denom\n",
    "    #gran2 = len(cluster_count) / gran_denom\n",
    "    return gran1\n",
    "\n",
    "def get_nmi_file(fname):\n",
    "    param_list = get_params_from_filename(fname)\n",
    "    clusters = pd.read_csv(fname, sep=\"\\t\", header=None, names=[\"PaperId\", \"ClusterNum\"])\n",
    "    L0FOSID = fos_l0_namedict[param_list[1]]\n",
    "    clusterdict = clusters.set_index(\"PaperId\")[\"ClusterNum\"].to_dict()\n",
    "    nmi_val = get_nmi_subset(clusterdict, paperfielddict)\n",
    "    gran = calc_granularity_cludict(clusterdict)\n",
    "    res = param_list + [gran, nmi_val]\n",
    "    return res"
   ]
  },
  {
   "cell_type": "code",
   "execution_count": null,
   "metadata": {},
   "outputs": [],
   "source": [
    "#FieldReferences = pd.read_csv(\"./Processed_data/MAG_ALLReferenceL0FieldMerged.tsv\", sep=\"\\t\", )\n",
    "#FieldReferences"
   ]
  },
  {
   "cell_type": "code",
   "execution_count": null,
   "metadata": {},
   "outputs": [],
   "source": [
    "FOS_datafile = \"./MAG_dataset/advanced/FieldsOfStudy.txt\"\n",
    "df_fosinfo = pd.read_csv(FOS_datafile, sep=\"\\t\", header=None, usecols=[0, 3, 5, 6], quoting=csv.QUOTE_NONE)\n",
    "df_fosinfo.columns = [\"FieldofStudyId\", \"FosName\", \"FosLevel\", \"PaperCount\"]\n",
    "fos_l0_namedict = df_fosinfo[df_fosinfo[\"FosLevel\"] == 0].set_index(\"FosName\")[\"FieldofStudyId\"].to_dict()"
   ]
  },
  {
   "cell_type": "code",
   "execution_count": null,
   "metadata": {},
   "outputs": [],
   "source": [
    "input_file_mag_l2_field = \"./fastnvme01//MAG_PaperFieldL2_MAX.txt\"\n",
    "paperfielddict = defaultdict(int)\n",
    "with open(input_file_mag_l2_field, 'r') as csvfile:\n",
    "    reader = csv.reader(csvfile, delimiter='\\t')\n",
    "    next(reader)\n",
    "    for row in reader:  \n",
    "        paperfielddict[int(row[0])] = int(row[3])\n",
    "print(len(paperfielddict))"
   ]
  },
  {
   "cell_type": "code",
   "execution_count": null,
   "metadata": {},
   "outputs": [],
   "source": [
    "no_process = 8\n",
    "filenames = sorted(glob.glob(\"./fastnvme01/Cluster_out/DC-T1_Physics_r_1.00_0.00_0.00_*.clu\"))"
   ]
  },
  {
   "cell_type": "code",
   "execution_count": null,
   "metadata": {},
   "outputs": [],
   "source": [
    "#filenames"
   ]
  },
  {
   "cell_type": "code",
   "execution_count": null,
   "metadata": {},
   "outputs": [],
   "source": [
    "no_process = 10\n",
    "\n",
    "pool = Pool(processes=no_process)\n",
    "sub_res_list = list(tqdm(pool.imap(get_nmi_file, filenames), total=len(filenames)))\n",
    "pool.close()"
   ]
  },
  {
   "cell_type": "code",
   "execution_count": null,
   "metadata": {},
   "outputs": [],
   "source": [
    "result_list = []\n",
    "result_list.append([\"NetworkType\", \"L0FOS\", \"LayerRatio\", \"ResParm\", \"Granularity\", \"L2NMI\"])\n",
    "result_list += sub_res_list"
   ]
  },
  {
   "cell_type": "code",
   "execution_count": null,
   "metadata": {},
   "outputs": [],
   "source": [
    "df_l2_sim_Phyiscs_T1 = pd.DataFrame(result_list)\n",
    "df_l2_sim_Phyiscs_T1.columns = df_l2_sim_Phyiscs_T1.iloc[0]\n",
    "df_l2_sim_Phyiscs_T1 = df_l2_sim_Phyiscs_T1[1:]\n",
    "df_l2_sim_Phyiscs_T1[\"LayerRatio\"] = df_l2_sim_Phyiscs_T1[\"LayerRatio\"].astype(str)\n",
    "df_l2_sim_Phyiscs_T1.to_csv(\"./MAG_L2_Similarity/20210423_DC_3.tsv\", sep = \"\\t\", index = None)"
   ]
  },
  {
   "cell_type": "code",
   "execution_count": null,
   "metadata": {},
   "outputs": [],
   "source": [
    "df_l2_sim_Phyiscs_T1"
   ]
  },
  {
   "cell_type": "code",
   "execution_count": null,
   "metadata": {},
   "outputs": [],
   "source": []
  },
  {
   "cell_type": "code",
   "execution_count": null,
   "metadata": {},
   "outputs": [],
   "source": []
  }
 ],
 "metadata": {
  "kernelspec": {
   "display_name": "Python 3 (ipykernel)",
   "language": "python",
   "name": "python3"
  },
  "language_info": {
   "codemirror_mode": {
    "name": "ipython",
    "version": 3
   },
   "file_extension": ".py",
   "mimetype": "text/x-python",
   "name": "python",
   "nbconvert_exporter": "python",
   "pygments_lexer": "ipython3",
   "version": "3.12.9"
  }
 },
 "nbformat": 4,
 "nbformat_minor": 4
}
