{
 "cells": [
  {
   "cell_type": "code",
   "execution_count": null,
   "id": "c6b04fe3-6a79-4f8f-80d5-c40441b3ccdb",
   "metadata": {},
   "outputs": [],
   "source": [
    "import pandas as pd\n",
    "import csv"
   ]
  },
  {
   "cell_type": "code",
   "execution_count": null,
   "id": "6edc62fd-a630-4341-9aa7-2e7d14c4f4cf",
   "metadata": {},
   "outputs": [],
   "source": [
    "def calc_granularity_clusters(cluster_list):\n",
    "    # cluster list: list idx = cluster idx\n",
    "    # list[cluster idx]: list of node indexes for a certain cluster\n",
    "    cluster_count = len(cluster_list)\n",
    "    total_count = sum([len(x) for x in cluster_list])\n",
    "    gran_denom = sum([len(x)**2 for x in cluster_list])\n",
    "    gran1 = total_count / gran_denom\n",
    "    #gran2 = len(cluster_count) / gran_denom\n",
    "    return gran1"
   ]
  },
  {
   "cell_type": "code",
   "execution_count": null,
   "id": "2e13ee75-e266-4766-869e-05a346a8bebf",
   "metadata": {},
   "outputs": [],
   "source": [
    "input_file_reference_with_l0 = \"./fastnvme01//MAG_ALLReferenceL0FieldMerged.tsv\"\n",
    "df_neighbor = pd.read_csv(input_file_reference_with_l0, sep=\"\\t\")"
   ]
  },
  {
   "cell_type": "code",
   "execution_count": null,
   "id": "d3e2ae5a-8e34-4a56-9d02-151989949014",
   "metadata": {},
   "outputs": [],
   "source": [
    "FOS_datafile = \"./MAG_dataset/advanced/FieldsOfStudy.txt\"\n",
    "df_fosinfo = pd.read_csv(FOS_datafile, sep=\"\\t\", header=None, usecols=[0, 3, 5, 6], quoting=csv.QUOTE_NONE)\n",
    "df_fosinfo.columns = [\"FieldofStudyId\", \"FosName\", \"FosLevel\", \"PaperCount\"]\n",
    "fos_l0_namedict = df_fosinfo[df_fosinfo[\"FosLevel\"] == 0].set_index(\"FieldofStudyId\")[\"FosName\"].to_dict()"
   ]
  },
  {
   "cell_type": "code",
   "execution_count": null,
   "id": "246975e4-b9c9-4469-b370-b1ff65744d96",
   "metadata": {},
   "outputs": [],
   "source": [
    "fos_l0_namedict"
   ]
  },
  {
   "cell_type": "code",
   "execution_count": null,
   "id": "88b720dc-a538-455a-9d05-76255b45acc5",
   "metadata": {},
   "outputs": [],
   "source": [
    "df_neighbor"
   ]
  },
  {
   "cell_type": "code",
   "execution_count": null,
   "id": "56a5a02f-931d-4f1c-8d59-431aa88c6989",
   "metadata": {},
   "outputs": [],
   "source": [
    "TargetFOSList = [144024400, 41008148, 162324750, 192562407, 33923547, 121332964]"
   ]
  },
  {
   "cell_type": "code",
   "execution_count": null,
   "id": "320a5a4b-99f4-416a-be18-5418cf276c89",
   "metadata": {},
   "outputs": [],
   "source": [
    "from tqdm.notebook import tqdm\n",
    "\n",
    "for i in tqdm(range(len(TargetFOSList))):\n",
    "    FosIdx = i\n",
    "    reslist = [0.2*x for x in range(1, 101)]\n",
    "    result_T1 = []\n",
    "    header = \"DC-T1\"\n",
    "    fosname = fos_l0_namedict[TargetFOSList[FosIdx]]    \n",
    "    for i in tqdm(range(len(reslist))):\n",
    "\n",
    "        r_layers = [1, 0, 0]\n",
    "        res = reslist[i]\n",
    "        infile_fname = \"./Cluster_out/\" + header + \"_\" + fosname + \"_r_\" + \"_\".join([format(x, \".2f\") for x in r_layers]) + \"_\" + format(res, \".2f\") + \".clu\"\n",
    "        df_cluster = pd.read_csv(infile_fname, sep=\"\\t\", header=None, names=[\"PaperId\", \"ClusterId\"])\n",
    "        cluster_dict = df_cluster.set_index(\"PaperId\")[\"ClusterId\"].to_dict()\n",
    "        df_targetfos = df_neighbor[(df_neighbor[\"FOSCiting\"]==TargetFOSList[FosIdx]) & (df_neighbor[\"FOSCited\"]==TargetFOSList[FosIdx])].copy()\n",
    "        df_targetfos['citing_cluster'] = df_targetfos['CitingId'].map(cluster_dict)\n",
    "        df_targetfos['cited_cluster'] = df_targetfos['CitedId'].map(cluster_dict)\n",
    "        df_targetfos = df_targetfos.dropna(subset=[\"citing_cluster\", \"cited_cluster\"])\n",
    "        num_notsame = sum(df_targetfos[\"citing_cluster\"] != df_targetfos[\"cited_cluster\"])\n",
    "        num_same = sum(df_targetfos[\"citing_cluster\"] == df_targetfos[\"cited_cluster\"])\n",
    "    \n",
    "        cluster_list = df_cluster.groupby('ClusterId')['PaperId'].apply(list).tolist()\n",
    "        granularity = calc_granularity_clusters(cluster_list)\n",
    "        result_T1.append([res, granularity, num_same, num_notsame, num_same/(num_same + num_notsame)])\n",
    "        \n",
    "    out_columns = [\"res\", \"granularity\", \"num_same\", \"num_notsame\", \"num_same_fraction\"]    \n",
    "    outfile_fname = \"./MAG_same_cluster/\" + header + \"_\" + fosname + \".tsv\"\n",
    "    pd.DataFrame(result_T1, columns=out_columns).to_csv(outfile_fname, sep=\"\\t\")\n",
    "    \n",
    "    result_T2 = []\n",
    "\n",
    "    \n",
    "    header = \"DC-T2\"    \n",
    "    for i in tqdm(range(len(reslist))):\n",
    "\n",
    "        r_layers = [0, 0, 0, 1]\n",
    "        res = reslist[i]\n",
    "        infile_fname = \"./Cluster_out/\" + header + \"_\" + fosname + \"_r_\" + \"_\".join([format(x, \".2f\") for x in r_layers]) + \"_\" + format(res, \".2f\") + \".clu\"\n",
    "        df_cluster = pd.read_csv(infile_fname, sep=\"\\t\", header=None, names=[\"PaperId\", \"ClusterId\"])\n",
    "        cluster_dict = df_cluster.set_index(\"PaperId\")[\"ClusterId\"].to_dict()\n",
    "        df_targetfos = df_neighbor[(df_neighbor[\"FOSCiting\"]==TargetFOSList[FosIdx]) & (df_neighbor[\"FOSCited\"]==TargetFOSList[FosIdx])].copy()\n",
    "        df_targetfos['citing_cluster'] = df_targetfos['CitingId'].map(cluster_dict)\n",
    "        df_targetfos['cited_cluster'] = df_targetfos['CitedId'].map(cluster_dict)\n",
    "        df_targetfos = df_targetfos.dropna(subset=[\"citing_cluster\", \"cited_cluster\"])\n",
    "        num_notsame = sum(df_targetfos[\"citing_cluster\"] != df_targetfos[\"cited_cluster\"])\n",
    "        num_same = sum(df_targetfos[\"citing_cluster\"] == df_targetfos[\"cited_cluster\"])\n",
    "        \n",
    "        cluster_list = df_cluster.groupby('ClusterId')['PaperId'].apply(list).tolist()\n",
    "        granularity = calc_granularity_clusters(cluster_list)\n",
    "        result_T2.append([res, granularity, num_same, num_notsame, num_same/(num_same + num_notsame)])\n",
    "\n",
    "    out_columns = [\"res\", \"granularity\", \"num_same\", \"num_notsame\", \"num_same_fraction\"]    \n",
    "    outfile_fname = \"./MAG_same_cluster/\" + header + \"_\" + fosname + \".tsv\"\n",
    "    pd.DataFrame(result_T2, columns=out_columns).to_csv(outfile_fname, sep=\"\\t\")"
   ]
  },
  {
   "cell_type": "code",
   "execution_count": null,
   "id": "644fd346-d8e7-46b5-9950-972b2bad0a56",
   "metadata": {},
   "outputs": [],
   "source": [
    "from matplotlib import pyplot as plt\n",
    "\n",
    "def cm2inch(value):\n",
    "    return value/2.54\n",
    "\n",
    "fig, axes = plt.subplots(3, 2, figsize =(cm2inch(9)*2, cm2inch(12)*2))\n",
    "axes = axes.flatten()\n",
    "for idx in tqdm(range(len(TargetFOSList))):\n",
    "    now_ax = axes[idx]\n",
    "    now_ax.set_xscale(\"log\")\n",
    "    fosname = fos_l0_namedict[TargetFOSList[idx]]\n",
    "    header = \"DC-T1\"\n",
    "    infile_fname = \"./MAG_same_cluster/\" + header + \"_\" + fosname + \".tsv\"\n",
    "    df_T1 = pd.read_csv(infile_fname, sep=\"\\t\")\n",
    "    df_T1.set_index(\"res\")[\"num_same_fraction\"].plot(label = \"DC T1\", ax = now_ax)\n",
    "\n",
    "    header = \"DC-T2\"\n",
    "    infile_fname = \"./MAG_same_cluster/\" + header + \"_\" + fosname + \".tsv\"\n",
    "    df_T1 = pd.read_csv(infile_fname, sep=\"\\t\")\n",
    "    df_T1.set_index(\"res\")[\"num_same_fraction\"].plot(label = \"DC T2\", ax = now_ax)\n",
    "   \n",
    "    now_ax.legend(frameon=False, fontsize=8)\n",
    "    now_ax.set_title(fosname, size=12)\n",
    "    now_ax.set_ylabel(\"Co-clustering Fraction\")\n",
    "    now_ax.set_xlabel(\"Resolution Parameter\")\n",
    "\n",
    "#axes[0].legend(loc=\"upper left\", frameon=False)\n",
    "\n",
    "labellist = [\"(a)\", \"(b)\", \"(c)\", \"(d)\", \"(e)\", \"(f)\", \"(g)\", \"(h)\", \"(i)\", \"(j)\", \"(k)\", \"(l)\", \"(m)\", \"(n)\", \"(o)\", \"(p)\"]\n",
    "for index, ax in enumerate(fig.get_axes()):\n",
    "    ax.yaxis.label.set_fontsize(12)\n",
    "    ax.xaxis.label.set_fontsize(12)\n",
    "    ax.tick_params(axis='x', labelsize=12)\n",
    "    ax.tick_params(axis='y', labelsize=12)\n",
    "    ax.text(-0.2, 1.05, labellist[index], fontsize=14, weight='bold', transform=ax.transAxes)  \n",
    "    #ax.set_yticks([0.1 * i for i in range(10)])\n",
    "    \n",
    "\n",
    "plt.tight_layout()\n",
    "plt.savefig(\"./SubmissionFigures/Figure8.png\")\n",
    "plt.savefig(\"./SubmissionFigures/Figure8.pdf\")\n",
    "plt.show()\n",
    "plt.close()"
   ]
  },
  {
   "cell_type": "code",
   "execution_count": null,
   "id": "d479440a-75b9-4e81-9ad5-efb1066f2b74",
   "metadata": {},
   "outputs": [],
   "source": [
    "df_T1"
   ]
  },
  {
   "cell_type": "code",
   "execution_count": null,
   "id": "9afa690c-0e2c-431a-9722-18a9e1721e2f",
   "metadata": {},
   "outputs": [],
   "source": []
  }
 ],
 "metadata": {
  "kernelspec": {
   "display_name": "Python 3 (ipykernel)",
   "language": "python",
   "name": "python3"
  },
  "language_info": {
   "codemirror_mode": {
    "name": "ipython",
    "version": 3
   },
   "file_extension": ".py",
   "mimetype": "text/x-python",
   "name": "python",
   "nbconvert_exporter": "python",
   "pygments_lexer": "ipython3",
   "version": "3.12.9"
  }
 },
 "nbformat": 4,
 "nbformat_minor": 5
}
