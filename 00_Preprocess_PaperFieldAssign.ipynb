{
 "cells": [
  {
   "cell_type": "code",
   "execution_count": null,
   "metadata": {},
   "outputs": [],
   "source": [
    "import pandas as pd\n",
    "import csv\n",
    "from collections import defaultdict\n",
    "from tqdm import tqdm_notebook\n",
    "import gc\n",
    "import numpy as np"
   ]
  },
  {
   "cell_type": "code",
   "execution_count": null,
   "metadata": {},
   "outputs": [],
   "source": [
    "FOS_datafile = \"./MAG_dataset/advanced/FieldsOfStudy.txt\"\n",
    "df_fosinfo = pd.read_csv(FOS_datafile, sep=\"\\t\", header=None, usecols=[0, 3, 5, 6], quoting=csv.QUOTE_NONE)\n",
    "df_fosinfo.columns = [\"FieldofStudyId\", \"FosName\", \"FosLevel\", \"PaperCount\"]"
   ]
  },
  {
   "cell_type": "code",
   "execution_count": null,
   "metadata": {},
   "outputs": [],
   "source": [
    "PaperData = pd.read_csv(\"./MAG_dataset/mag/Papers.txt\", sep =\"\\t\", error_bad_lines=False, usecols =[0, 3, 7], header=None, quoting=csv.QUOTE_NONE)\n",
    "PaperData.columns = [\"PaperId\", \"DocType\", \"Year\"]"
   ]
  },
  {
   "cell_type": "code",
   "execution_count": null,
   "metadata": {},
   "outputs": [],
   "source": [
    "PaperData = PaperData[PaperData[\"DocType\"] == \"Journal\"]"
   ]
  },
  {
   "cell_type": "code",
   "execution_count": null,
   "metadata": {},
   "outputs": [],
   "source": [
    "PaperFieldData = pd.read_csv(\"./MAG_dataset/advanced/PaperFieldsOfStudy.txt\", sep =\"\\t\", error_bad_lines=False, header=None, quoting=csv.QUOTE_NONE)\n",
    "PaperFieldData.columns = [\"PaperId\", \"FieldofStudyId\", \"Score\"]"
   ]
  },
  {
   "cell_type": "code",
   "execution_count": null,
   "metadata": {},
   "outputs": [],
   "source": [
    "PaperFieldData = PaperFieldData.merge(df_fosinfo, on=\"FieldofStudyId\") "
   ]
  },
  {
   "cell_type": "code",
   "execution_count": null,
   "metadata": {},
   "outputs": [],
   "source": [
    "PaperFieldDataMerged = PaperData.merge(PaperFieldData, on=\"PaperId\")"
   ]
  },
  {
   "cell_type": "code",
   "execution_count": null,
   "metadata": {},
   "outputs": [],
   "source": [
    "PaperFieldDataMerged = PaperFieldDataMerged.dropna(subset=[\"FieldofStudyId\"])"
   ]
  },
  {
   "cell_type": "code",
   "execution_count": null,
   "metadata": {},
   "outputs": [],
   "source": [
    "PaperFieldDataMerged.drop(\"PaperCount\", axis = 1)"
   ]
  },
  {
   "cell_type": "code",
   "execution_count": null,
   "metadata": {},
   "outputs": [],
   "source": [
    "PaperFieldDataMerged.to_csv(\"./Processed_data/MAG_PaperJournalFiledDataMerged.tsv\", sep = \"\\t\")"
   ]
  },
  {
   "cell_type": "code",
   "execution_count": null,
   "metadata": {},
   "outputs": [],
   "source": [
    "for i in range(0, 6):\n",
    "     PaperFieldDataMerged[PaperFieldDataMerged[\"FosLevel\"] == i].to_csv(\"./Processed_data/MAG_PaperJournalFiledDataMergedL\" + str(i) +\".tsv\", sep = \"\\t\")"
   ]
  },
  {
   "cell_type": "code",
   "execution_count": null,
   "metadata": {},
   "outputs": [],
   "source": []
  }
 ],
 "metadata": {
  "kernelspec": {
   "display_name": "Python 3 (ipykernel)",
   "language": "python",
   "name": "python3"
  },
  "language_info": {
   "codemirror_mode": {
    "name": "ipython",
    "version": 3
   },
   "file_extension": ".py",
   "mimetype": "text/x-python",
   "name": "python",
   "nbconvert_exporter": "python",
   "pygments_lexer": "ipython3",
   "version": "3.12.9"
  }
 },
 "nbformat": 4,
 "nbformat_minor": 4
}
